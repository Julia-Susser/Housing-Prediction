{
 "cells": [
  {
   "cell_type": "code",
   "execution_count": 49,
   "metadata": {},
   "outputs": [],
   "source": [
    "import pandas as pd\n",
    "import numpy as np\n",
    "import matplotlib.pyplot as plt \n",
    "import seaborn as sns \n",
    "from sklearn.utils import shuffle\n",
    "from sklearn.model_selection import train_test_split\n",
    "df = pd.read_csv(\"../../input/train.csv\")\n",
    "qualitative = list(df.columns[df.dtypes == \"object\"])\n",
    "#qualitative += [x for x in df.select_dtypes(include=['float64',\"int64\"]).columns if len(df[x].unique()) <= 10]\n",
    "#quantitative = [x for x in df.select_dtypes(include=['float64',\"int64\"]).columns if len(df[x].unique()) > 10]\n",
    "quantitative = df.select_dtypes(include=['float64',\"int64\"]).columns[:-1]\n",
    "df[qualitative] = df[qualitative].fillna(\"None\")\n",
    "df[quantitative] = df[quantitative].fillna(0)\n"
   ]
  },
  {
   "cell_type": "code",
   "execution_count": 55,
   "metadata": {},
   "outputs": [],
   "source": [
    "qualDf = pd.get_dummies(df[qualitative])\n",
    "cats = qualDf.columns\n",
    "X = pd.concat([df[quantitative],qualDf],axis=1)\n",
    "y = df.SalePrice"
   ]
  },
  {
   "cell_type": "code",
   "execution_count": null,
   "metadata": {},
   "outputs": [],
   "source": []
  }
 ],
 "metadata": {
  "kernelspec": {
   "display_name": "Python 3",
   "language": "python",
   "name": "python3"
  },
  "language_info": {
   "codemirror_mode": {
    "name": "ipython",
    "version": 3
   },
   "file_extension": ".py",
   "mimetype": "text/x-python",
   "name": "python",
   "nbconvert_exporter": "python",
   "pygments_lexer": "ipython3",
   "version": "3.8.4"
  }
 },
 "nbformat": 4,
 "nbformat_minor": 4
}
