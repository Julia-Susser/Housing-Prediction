{
 "cells": [
  {
   "cell_type": "code",
   "execution_count": 3,
   "metadata": {},
   "outputs": [],
   "source": [
    "import pandas as pd\n",
    "import numpy as np\n",
    "import matplotlib.pyplot as plt \n",
    "import seaborn as sns \n",
    "from sklearn.utils import shuffle\n",
    "from sklearn.model_selection import train_test_split\n",
    "cols = ['SalePrice', 'Id','LotFrontage', 'Neighborhood', 'MasVnrArea', 'ExterQual',\n",
    "       'BsmtQual', 'KitchenQual', 'FireplaceQu', 'GarageYrBlt', 'GarageFinish',\n",
    "       'OverallQual', 'YearBuilt', 'TotalBsmtSF', '1stFlrSF', 'GrLivArea',\n",
    "       'FullBath', 'TotRmsAbvGrd', 'GarageCars', 'GarageArea']\n",
    "df = pd.read_csv(\"../../input/train.csv\")\n",
    "df = df[cols]\n",
    "qualitative = list(df.columns[df.dtypes == \"object\"])\n",
    "#qualitative += [x for x in df.select_dtypes(include=['float64',\"int64\"]).columns if len(df[x].unique()) <= 10]\n",
    "#quantitative = [x for x in df.select_dtypes(include=['float64',\"int64\"]).columns if len(df[x].unique()) > 10]\n",
    "quantitative = df.select_dtypes(include=['float64',\"int64\"]).columns\n",
    "df[qualitative] = df[qualitative].fillna(\"None\")\n",
    "df[quantitative] = df[quantitative].fillna(0)"
   ]
  },
  {
   "cell_type": "code",
   "execution_count": 8,
   "metadata": {},
   "outputs": [
    {
     "data": {
      "text/plain": [
       "0       NaN\n",
       "1       NaN\n",
       "2       NaN\n",
       "3       NaN\n",
       "4       NaN\n",
       "       ... \n",
       "1455    NaN\n",
       "1456    NaN\n",
       "1457    NaN\n",
       "1458    NaN\n",
       "1459    NaN\n",
       "Name: PoolQC, Length: 1460, dtype: object"
      ]
     },
     "execution_count": 8,
     "metadata": {},
     "output_type": "execute_result"
    }
   ],
   "source": [
    "df = pd.read_csv(\"../../input/train.csv\")\n",
    "df.PoolQC"
   ]
  },
  {
   "cell_type": "code",
   "execution_count": 7,
   "metadata": {},
   "outputs": [],
   "source": [
    "#spearman correlation graphing uses the groupby of saleprice for categorical\n",
    "key = pd.DataFrame(columns=[\"index\"], index=pd.MultiIndex.from_tuples([], names=['variable','value']))\n",
    "qualDf = df[qualitative]\n",
    "for x in qualitative:\n",
    "    kf = df.groupby(x)[\"SalePrice\"].mean().to_frame().sort_values(\"SalePrice\").reset_index().reset_index().drop(columns=[\"SalePrice\"])\n",
    "    kf[\"variable\"] = x\n",
    "    key = pd.concat([key, kf.rename(columns={x:\"value\"}).set_index([\"variable\",\"value\"])])\n",
    "\n",
    "reshape_df = pd.melt(df, id_vars=\"Id\", value_vars=qualitative).merge(key, on=[\"variable\",\"value\"])\n",
    "qualDf= reshape_df.pivot(index='Id', columns='variable')[\"index\"]\n",
    "df = qualDf.merge(df[quantitative], on=[\"Id\"])\n",
    "\n",
    "\n"
   ]
  },
  {
   "cell_type": "code",
   "execution_count": 5,
   "metadata": {},
   "outputs": [
    {
     "data": {
      "text/html": [
       "<div>\n",
       "<style scoped>\n",
       "    .dataframe tbody tr th:only-of-type {\n",
       "        vertical-align: middle;\n",
       "    }\n",
       "\n",
       "    .dataframe tbody tr th {\n",
       "        vertical-align: top;\n",
       "    }\n",
       "\n",
       "    .dataframe thead th {\n",
       "        text-align: right;\n",
       "    }\n",
       "</style>\n",
       "<table border=\"1\" class=\"dataframe\">\n",
       "  <thead>\n",
       "    <tr style=\"text-align: right;\">\n",
       "      <th>variable</th>\n",
       "      <th>BsmtQual</th>\n",
       "      <th>ExterQual</th>\n",
       "      <th>FireplaceQu</th>\n",
       "      <th>GarageFinish</th>\n",
       "      <th>KitchenQual</th>\n",
       "      <th>Neighborhood</th>\n",
       "    </tr>\n",
       "    <tr>\n",
       "      <th>Id</th>\n",
       "      <th></th>\n",
       "      <th></th>\n",
       "      <th></th>\n",
       "      <th></th>\n",
       "      <th></th>\n",
       "      <th></th>\n",
       "    </tr>\n",
       "  </thead>\n",
       "  <tbody>\n",
       "    <tr>\n",
       "      <th>1</th>\n",
       "      <td>3</td>\n",
       "      <td>2</td>\n",
       "      <td>1</td>\n",
       "      <td>2</td>\n",
       "      <td>2</td>\n",
       "      <td>16</td>\n",
       "    </tr>\n",
       "    <tr>\n",
       "      <th>2</th>\n",
       "      <td>3</td>\n",
       "      <td>1</td>\n",
       "      <td>3</td>\n",
       "      <td>2</td>\n",
       "      <td>1</td>\n",
       "      <td>20</td>\n",
       "    </tr>\n",
       "    <tr>\n",
       "      <th>3</th>\n",
       "      <td>3</td>\n",
       "      <td>2</td>\n",
       "      <td>3</td>\n",
       "      <td>2</td>\n",
       "      <td>2</td>\n",
       "      <td>16</td>\n",
       "    </tr>\n",
       "    <tr>\n",
       "      <th>4</th>\n",
       "      <td>2</td>\n",
       "      <td>1</td>\n",
       "      <td>4</td>\n",
       "      <td>1</td>\n",
       "      <td>2</td>\n",
       "      <td>17</td>\n",
       "    </tr>\n",
       "    <tr>\n",
       "      <th>5</th>\n",
       "      <td>3</td>\n",
       "      <td>2</td>\n",
       "      <td>3</td>\n",
       "      <td>2</td>\n",
       "      <td>2</td>\n",
       "      <td>24</td>\n",
       "    </tr>\n",
       "    <tr>\n",
       "      <th>...</th>\n",
       "      <td>...</td>\n",
       "      <td>...</td>\n",
       "      <td>...</td>\n",
       "      <td>...</td>\n",
       "      <td>...</td>\n",
       "      <td>...</td>\n",
       "    </tr>\n",
       "    <tr>\n",
       "      <th>1456</th>\n",
       "      <td>3</td>\n",
       "      <td>1</td>\n",
       "      <td>3</td>\n",
       "      <td>2</td>\n",
       "      <td>1</td>\n",
       "      <td>14</td>\n",
       "    </tr>\n",
       "    <tr>\n",
       "      <th>1457</th>\n",
       "      <td>3</td>\n",
       "      <td>1</td>\n",
       "      <td>3</td>\n",
       "      <td>1</td>\n",
       "      <td>1</td>\n",
       "      <td>13</td>\n",
       "    </tr>\n",
       "    <tr>\n",
       "      <th>1458</th>\n",
       "      <td>2</td>\n",
       "      <td>3</td>\n",
       "      <td>4</td>\n",
       "      <td>2</td>\n",
       "      <td>2</td>\n",
       "      <td>17</td>\n",
       "    </tr>\n",
       "    <tr>\n",
       "      <th>1459</th>\n",
       "      <td>2</td>\n",
       "      <td>1</td>\n",
       "      <td>1</td>\n",
       "      <td>1</td>\n",
       "      <td>2</td>\n",
       "      <td>10</td>\n",
       "    </tr>\n",
       "    <tr>\n",
       "      <th>1460</th>\n",
       "      <td>2</td>\n",
       "      <td>2</td>\n",
       "      <td>1</td>\n",
       "      <td>3</td>\n",
       "      <td>1</td>\n",
       "      <td>4</td>\n",
       "    </tr>\n",
       "  </tbody>\n",
       "</table>\n",
       "<p>1460 rows × 6 columns</p>\n",
       "</div>"
      ],
      "text/plain": [
       "variable BsmtQual ExterQual FireplaceQu GarageFinish KitchenQual Neighborhood\n",
       "Id                                                                           \n",
       "1               3         2           1            2           2           16\n",
       "2               3         1           3            2           1           20\n",
       "3               3         2           3            2           2           16\n",
       "4               2         1           4            1           2           17\n",
       "5               3         2           3            2           2           24\n",
       "...           ...       ...         ...          ...         ...          ...\n",
       "1456            3         1           3            2           1           14\n",
       "1457            3         1           3            1           1           13\n",
       "1458            2         3           4            2           2           17\n",
       "1459            2         1           1            1           2           10\n",
       "1460            2         2           1            3           1            4\n",
       "\n",
       "[1460 rows x 6 columns]"
      ]
     },
     "execution_count": 5,
     "metadata": {},
     "output_type": "execute_result"
    }
   ],
   "source": [
    "qualDf"
   ]
  },
  {
   "cell_type": "code",
   "execution_count": 215,
   "metadata": {},
   "outputs": [],
   "source": [
    "df[qualitative] = df[qualitative].astype(\"int64\")"
   ]
  },
  {
   "cell_type": "code",
   "execution_count": 216,
   "metadata": {},
   "outputs": [],
   "source": [
    "X = df.drop(columns=[\"SalePrice\",\"Id\"])\n",
    "y = df.SalePrice"
   ]
  },
  {
   "cell_type": "code",
   "execution_count": 217,
   "metadata": {},
   "outputs": [],
   "source": [
    "x_train, x_test, y_train, y_test = train_test_split(X, y, test_size=0.20, random_state=42)"
   ]
  },
  {
   "cell_type": "code",
   "execution_count": 218,
   "metadata": {},
   "outputs": [
    {
     "name": "stdout",
     "output_type": "stream",
     "text": [
      "RMSE :  32171.573006\n",
      "Test score:\n"
     ]
    },
    {
     "data": {
      "text/plain": [
       "0.8650630909701265"
      ]
     },
     "execution_count": 218,
     "metadata": {},
     "output_type": "execute_result"
    }
   ],
   "source": [
    "import xgboost as xg \n",
    "from sklearn.model_selection import train_test_split \n",
    "from sklearn.metrics import mean_squared_error as MSE \n",
    "from sklearn.metrics import r2_score\n",
    "# Instantiation \n",
    "xgb_r = xg.XGBRegressor(n_estimators = 100, seed = 123, max_depth=3, learning_rate=.08, colsample_bytree=1)\n",
    "#col sample is how many they choose for tree like random forest\n",
    "  \n",
    "# Fitting the model \n",
    "xgb_r.fit(x_train, y_train) \n",
    "  \n",
    "# Predict the model \n",
    "predictions = xgb_r.predict(x_test) \n",
    "\n",
    "# RMSE Computation \n",
    "rmse = np.sqrt(MSE(y_test, predictions)) \n",
    "print(\"RMSE : % f\" %(rmse)) \n",
    "\n",
    "print(\"Test score:\")\n",
    "r2_score(y_test, predictions)"
   ]
  },
  {
   "cell_type": "code",
   "execution_count": 219,
   "metadata": {},
   "outputs": [],
   "source": [
    "quantitative = quantitative[1:]\n",
    "cols = cols[1:]"
   ]
  },
  {
   "cell_type": "code",
   "execution_count": 220,
   "metadata": {},
   "outputs": [],
   "source": [
    "tf = pd.read_csv(\"../input/test.csv\")\n",
    "tf = tf.sort_values(by='Id')\n",
    "tf = tf[cols]\n",
    "tf[qualitative] = tf[qualitative].fillna(\"None\")\n",
    "tf[quantitative] = tf[quantitative].fillna(0)\n",
    "reshape_tf = pd.melt(tf, id_vars=\"Id\", value_vars=qualitative).merge(key, on=[\"variable\",\"value\"])\n",
    "qualTf= reshape_tf.pivot(index='Id', columns='variable')[\"index\"]\n",
    "tf = qualTf.merge(tf[quantitative], on=[\"Id\"])\n",
    "\n",
    "tf = tf.fillna(0)"
   ]
  },
  {
   "cell_type": "code",
   "execution_count": 196,
   "metadata": {},
   "outputs": [],
   "source": [
    "#key.loc[key.index.get_level_values(0)==\"KitchenQual\"]"
   ]
  },
  {
   "cell_type": "code",
   "execution_count": 221,
   "metadata": {},
   "outputs": [],
   "source": [
    "Xtest = tf[list(X.columns)]"
   ]
  },
  {
   "cell_type": "code",
   "execution_count": 222,
   "metadata": {},
   "outputs": [],
   "source": [
    "predictions = xgb_r.predict(Xtest)"
   ]
  },
  {
   "cell_type": "code",
   "execution_count": 223,
   "metadata": {},
   "outputs": [],
   "source": [
    "pd.DataFrame({'SalePrice':predictions},tf.Id).to_csv(\"../output/XGBoost_submission.csv\")"
   ]
  },
  {
   "cell_type": "code",
   "execution_count": null,
   "metadata": {},
   "outputs": [],
   "source": []
  }
 ],
 "metadata": {
  "kernelspec": {
   "display_name": "Python 3",
   "language": "python",
   "name": "python3"
  },
  "language_info": {
   "codemirror_mode": {
    "name": "ipython",
    "version": 3
   },
   "file_extension": ".py",
   "mimetype": "text/x-python",
   "name": "python",
   "nbconvert_exporter": "python",
   "pygments_lexer": "ipython3",
   "version": "3.8.4"
  }
 },
 "nbformat": 4,
 "nbformat_minor": 4
}
