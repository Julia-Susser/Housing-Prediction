{
 "cells": [
  {
   "cell_type": "code",
   "execution_count": 2,
   "metadata": {},
   "outputs": [
    {
     "name": "stdout",
     "output_type": "stream",
     "text": [
      "Index(['LotFrontage', 'Neighborhood', 'MasVnrArea', 'ExterQual', 'BsmtQual',\n",
      "       'KitchenQual', 'FireplaceQu', 'GarageYrBlt', 'GarageFinish'],\n",
      "      dtype='object')\n"
     ]
    }
   ],
   "source": [
    "import pandas as pd\n",
    "import numpy as np\n",
    "import matplotlib.pyplot as plt \n",
    "import seaborn as sns \n",
    "from sklearn.utils import shuffle\n",
    "from sklearn.model_selection import train_test_split\n",
    "df = pd.read_csv(\"../input/train.csv\")\n",
    "y = df.SalePrice.values\n",
    "categorical = ['SalePrice', 'LotFrontage', 'Neighborhood', 'MasVnrArea', 'ExterQual',\n",
    "       'BsmtQual', 'KitchenQual', 'FireplaceQu', 'GarageYrBlt', 'GarageFinish',\n",
    "       'OverallQual', 'YearBuilt', 'TotalBsmtSF', '1stFlrSF', 'GrLivArea',\n",
    "       'FullBath', 'TotRmsAbvGrd', 'GarageCars', 'GarageArea']\n",
    "df = df.fillna(\"None\") #make the ones with nan objects so that they can be re encoded with nan included\n",
    "class PrepareData:\n",
    "    def __init__(self, df, cat):\n",
    "        self.df = df[cat+[\"Id\"]]\n",
    "        self.categories = cat\n",
    "        print(self.df.select_dtypes(\"object\").columns)\n",
    "    def encode(self):\n",
    "        catDf = self.df[list(self.df.select_dtypes(\"object\").columns) + [\"Id\",\"SalePrice\"]]\n",
    "        for x in self.df.select_dtypes(\"object\").columns:\n",
    "            kf = self.df.groupby(x)[\"SalePrice\"].mean().to_frame().sort_values(\"SalePrice\")\n",
    "            kf = kf.reset_index().reset_index().rename(columns={\"index\":x+\"Encoded\"}).drop(columns=[\"SalePrice\"])\n",
    "            catDf = catDf.merge(kf, on=x, how=\"left\")\n",
    "        self.catDf = catDf\n",
    "        catDf = catDf[[x for x in catDf.columns if \"Encode\" in x or x in [\"SalePrice\",\"Id\"]]]\n",
    "        catDf.columns = [x.split(\"Encoded\")[0] for x in catDf.columns]\n",
    "        self.df = catDf.merge(self.df.select_dtypes(include=['float64',\"int64\"]), on=[\"Id\",\"SalePrice\"])\n",
    "obj = PrepareData(df, categorical)\n",
    "obj.encode()\n",
    "df = obj.df"
   ]
  },
  {
   "cell_type": "code",
   "execution_count": 3,
   "metadata": {},
   "outputs": [],
   "source": [
    "X = df.iloc[:,2:]"
   ]
  },
  {
   "cell_type": "code",
   "execution_count": 4,
   "metadata": {},
   "outputs": [],
   "source": [
    "x_train, x_test, y_train, y_test = train_test_split(X, y, test_size=0.20, random_state=42)"
   ]
  },
  {
   "cell_type": "code",
   "execution_count": 5,
   "metadata": {},
   "outputs": [],
   "source": [
    "from sklearn.linear_model import LinearRegression\n",
    "lm = LinearRegression()\n",
    "\n",
    "model = lm.fit(x_train, y_train)\n",
    "\n",
    "y_predict= lm.predict(x_test)"
   ]
  },
  {
   "cell_type": "code",
   "execution_count": 6,
   "metadata": {},
   "outputs": [
    {
     "name": "stdout",
     "output_type": "stream",
     "text": [
      "Test score:\n"
     ]
    },
    {
     "data": {
      "text/plain": [
       "0.8431824004863517"
      ]
     },
     "execution_count": 6,
     "metadata": {},
     "output_type": "execute_result"
    }
   ],
   "source": [
    "from sklearn.metrics import r2_score\n",
    "print(\"Test score:\")\n",
    "r2_score(y_test, y_predict)\n"
   ]
  },
  {
   "cell_type": "code",
   "execution_count": 13,
   "metadata": {},
   "outputs": [
    {
     "data": {
      "text/html": [
       "<div>\n",
       "<style scoped>\n",
       "    .dataframe tbody tr th:only-of-type {\n",
       "        vertical-align: middle;\n",
       "    }\n",
       "\n",
       "    .dataframe tbody tr th {\n",
       "        vertical-align: top;\n",
       "    }\n",
       "\n",
       "    .dataframe thead th {\n",
       "        text-align: right;\n",
       "    }\n",
       "</style>\n",
       "<table border=\"1\" class=\"dataframe\">\n",
       "  <thead>\n",
       "    <tr style=\"text-align: right;\">\n",
       "      <th></th>\n",
       "      <th>Feature</th>\n",
       "      <th>Coefficient</th>\n",
       "    </tr>\n",
       "  </thead>\n",
       "  <tbody>\n",
       "    <tr>\n",
       "      <th>0</th>\n",
       "      <td>LotFrontage</td>\n",
       "      <td>238.025108</td>\n",
       "    </tr>\n",
       "    <tr>\n",
       "      <th>1</th>\n",
       "      <td>Neighborhood</td>\n",
       "      <td>2016.249362</td>\n",
       "    </tr>\n",
       "    <tr>\n",
       "      <th>2</th>\n",
       "      <td>MasVnrArea</td>\n",
       "      <td>150.205176</td>\n",
       "    </tr>\n",
       "    <tr>\n",
       "      <th>3</th>\n",
       "      <td>ExterQual</td>\n",
       "      <td>5714.233489</td>\n",
       "    </tr>\n",
       "    <tr>\n",
       "      <th>4</th>\n",
       "      <td>BsmtQual</td>\n",
       "      <td>9423.488587</td>\n",
       "    </tr>\n",
       "    <tr>\n",
       "      <th>5</th>\n",
       "      <td>KitchenQual</td>\n",
       "      <td>12500.586574</td>\n",
       "    </tr>\n",
       "    <tr>\n",
       "      <th>6</th>\n",
       "      <td>FireplaceQu</td>\n",
       "      <td>2606.733468</td>\n",
       "    </tr>\n",
       "    <tr>\n",
       "      <th>7</th>\n",
       "      <td>GarageYrBlt</td>\n",
       "      <td>17.422576</td>\n",
       "    </tr>\n",
       "    <tr>\n",
       "      <th>8</th>\n",
       "      <td>GarageFinish</td>\n",
       "      <td>1596.228997</td>\n",
       "    </tr>\n",
       "    <tr>\n",
       "      <th>9</th>\n",
       "      <td>OverallQual</td>\n",
       "      <td>9344.473895</td>\n",
       "    </tr>\n",
       "    <tr>\n",
       "      <th>10</th>\n",
       "      <td>YearBuilt</td>\n",
       "      <td>-60.460082</td>\n",
       "    </tr>\n",
       "    <tr>\n",
       "      <th>11</th>\n",
       "      <td>TotalBsmtSF</td>\n",
       "      <td>2.200524</td>\n",
       "    </tr>\n",
       "    <tr>\n",
       "      <th>12</th>\n",
       "      <td>1stFlrSF</td>\n",
       "      <td>13.511771</td>\n",
       "    </tr>\n",
       "    <tr>\n",
       "      <th>13</th>\n",
       "      <td>GrLivArea</td>\n",
       "      <td>42.705940</td>\n",
       "    </tr>\n",
       "    <tr>\n",
       "      <th>14</th>\n",
       "      <td>FullBath</td>\n",
       "      <td>-6915.847242</td>\n",
       "    </tr>\n",
       "    <tr>\n",
       "      <th>15</th>\n",
       "      <td>TotRmsAbvGrd</td>\n",
       "      <td>-190.934272</td>\n",
       "    </tr>\n",
       "    <tr>\n",
       "      <th>16</th>\n",
       "      <td>GarageCars</td>\n",
       "      <td>3060.239807</td>\n",
       "    </tr>\n",
       "    <tr>\n",
       "      <th>17</th>\n",
       "      <td>GarageArea</td>\n",
       "      <td>12.643097</td>\n",
       "    </tr>\n",
       "  </tbody>\n",
       "</table>\n",
       "</div>"
      ],
      "text/plain": [
       "         Feature   Coefficient\n",
       "0    LotFrontage    238.025108\n",
       "1   Neighborhood   2016.249362\n",
       "2     MasVnrArea    150.205176\n",
       "3      ExterQual   5714.233489\n",
       "4       BsmtQual   9423.488587\n",
       "5    KitchenQual  12500.586574\n",
       "6    FireplaceQu   2606.733468\n",
       "7    GarageYrBlt     17.422576\n",
       "8   GarageFinish   1596.228997\n",
       "9    OverallQual   9344.473895\n",
       "10     YearBuilt    -60.460082\n",
       "11   TotalBsmtSF      2.200524\n",
       "12      1stFlrSF     13.511771\n",
       "13     GrLivArea     42.705940\n",
       "14      FullBath  -6915.847242\n",
       "15  TotRmsAbvGrd   -190.934272\n",
       "16    GarageCars   3060.239807\n",
       "17    GarageArea     12.643097"
      ]
     },
     "execution_count": 13,
     "metadata": {},
     "output_type": "execute_result"
    }
   ],
   "source": [
    "pd.DataFrame(\n",
    "    {\n",
    "        'Feature': X.columns,\n",
    "        'Coefficient': model.coef_\n",
    "    }\n",
    ")"
   ]
  },
  {
   "cell_type": "code",
   "execution_count": 11,
   "metadata": {},
   "outputs": [
    {
     "data": {
      "image/png": "[encoded data removed]",
      "text/plain": [
       "<Figure size 1440x360 with 1 Axes>"
      ]
     },
     "metadata": {
      "needs_background": "light"
     },
     "output_type": "display_data"
    }
   ],
   "source": [
    "fig, ax = plt.subplots(figsize=(20,5))\n",
    "x = y_test\n",
    "y = y_predict\n",
    "dy = y_test\n",
    "ax.plot(x,dy)\n",
    "ax.scatter(x,y,color=\"red\")\n",
    "ax.vlines(x,x,y)\n",
    "plt.show()"
   ]
  },
  {
   "cell_type": "code",
   "execution_count": null,
   "metadata": {},
   "outputs": [],
   "source": []
  }
 ],
 "metadata": {
  "kernelspec": {
   "display_name": "Python 3",
   "language": "python",
   "name": "python3"
  },
  "language_info": {
   "codemirror_mode": {
    "name": "ipython",
    "version": 3
   },
   "file_extension": ".py",
   "mimetype": "text/x-python",
   "name": "python",
   "nbconvert_exporter": "python",
   "pygments_lexer": "ipython3",
   "version": "3.8.4"
  }
 },
 "nbformat": 4,
 "nbformat_minor": 4
}
