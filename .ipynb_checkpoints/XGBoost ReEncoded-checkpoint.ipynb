{
 "cells": [
  {
   "cell_type": "code",
   "execution_count": 139,
   "metadata": {},
   "outputs": [],
   "source": [
    "import pandas as pd\n",
    "import numpy as np\n",
    "import matplotlib.pyplot as plt \n",
    "import seaborn as sns \n",
    "from sklearn.utils import shuffle\n",
    "from sklearn.model_selection import train_test_split\n",
    "cols = ['SalePrice', 'Id','LotFrontage', 'Neighborhood', 'MasVnrArea', 'ExterQual',\n",
    "       'BsmtQual', 'KitchenQual', 'FireplaceQu', 'GarageYrBlt', 'GarageFinish',\n",
    "       'OverallQual', 'YearBuilt', 'TotalBsmtSF', '1stFlrSF', 'GrLivArea',\n",
    "       'FullBath', 'TotRmsAbvGrd', 'GarageCars', 'GarageArea']\n",
    "df = pd.read_csv(\"../input/train.csv\")\n",
    "df = df[cols]\n",
    "qualitative = list(df.columns[df.dtypes == \"object\"])\n",
    "#qualitative += [x for x in df.select_dtypes(include=['float64',\"int64\"]).columns if len(df[x].unique()) <= 10]\n",
    "#quantitative = [x for x in df.select_dtypes(include=['float64',\"int64\"]).columns if len(df[x].unique()) > 10]\n",
    "quantitative = df.select_dtypes(include=['float64',\"int64\"]).columns\n",
    "df[qualitative] = df[qualitative].fillna(\"None\")\n",
    "df[quantitative] = df[quantitative].fillna(0)"
   ]
  },
  {
   "cell_type": "code",
   "execution_count": 140,
   "metadata": {},
   "outputs": [],
   "source": [
    "key = pd.DataFrame(columns=[\"index\"], index=pd.MultiIndex.from_tuples([], names=['variable','value']))\n",
    "qualDf = df[qualitative + [\"Id\",\"SalePrice\"]]\n",
    "for x in qualitative:\n",
    "    kf = df.groupby(x)[\"SalePrice\"].mean().to_frame().sort_values(\"SalePrice\").reset_index().reset_index().drop(columns=[\"SalePrice\"])\n",
    "    kf[\"variable\"] = x\n",
    "    key = pd.concat([key, kf.rename(columns={x:\"value\"}).set_index([\"variable\",\"value\"])])\n",
    "\n",
    "reshape_df = pd.melt(df, id_vars=\"Id\", value_vars=qualitative).merge(key, on=[\"variable\",\"value\"])\n",
    "qualDf= reshape_df.pivot(index='Id', columns='variable')[\"index\"]\n",
    "df = qualDf.merge(df[quantitative[1:]], on=[\"Id\"])\n",
    "\n",
    "\n"
   ]
  },
  {
   "cell_type": "code",
   "execution_count": 141,
   "metadata": {},
   "outputs": [],
   "source": [
    "X = df.iloc[:,2:]\n",
    "y = df.SalePrice\n",
    "x_train, x_test, y_train, y_test = train_test_split(X, y, test_size=0.20, random_state=42)"
   ]
  },
  {
   "cell_type": "code",
   "execution_count": 142,
   "metadata": {},
   "outputs": [
    {
     "name": "stdout",
     "output_type": "stream",
     "text": [
      "RMSE :  31022.769032\n",
      "Test score:\n"
     ]
    },
    {
     "data": {
      "text/plain": [
       "0.8745278659039811"
      ]
     },
     "execution_count": 142,
     "metadata": {},
     "output_type": "execute_result"
    }
   ],
   "source": [
    "import xgboost as xg \n",
    "from sklearn.model_selection import train_test_split \n",
    "from sklearn.metrics import mean_squared_error as MSE \n",
    "from sklearn.metrics import r2_score\n",
    "# Instantiation \n",
    "xgb_r = xg.XGBRegressor(n_estimators = 100, seed = 123, max_depth=3, learning_rate=.08, colsample_bytree=1)\n",
    "#col sample is how many they choose for tree like random forest\n",
    "  \n",
    "# Fitting the model \n",
    "xgb_r.fit(x_train, y_train) \n",
    "  \n",
    "# Predict the model \n",
    "predictions = xgb_r.predict(x_test) \n",
    "\n",
    "# RMSE Computation \n",
    "rmse = np.sqrt(MSE(y_test, predictions)) \n",
    "print(\"RMSE : % f\" %(rmse)) \n",
    "\n",
    "print(\"Test score:\")\n",
    "r2_score(y_test, predictions)"
   ]
  },
  {
   "cell_type": "code",
   "execution_count": 143,
   "metadata": {},
   "outputs": [],
   "source": [
    "tf = pd.read_csv(\"../input/test.csv\")\n",
    "tf = tf.sort_values(by='Id')\n",
    "tf = tf[cols[1:]]\n",
    "tf[qualitative] = tf[qualitative].fillna(\"None\")\n",
    "tf[quantitative[1:]] = tf[quantitative[1:]].fillna(0)\n",
    "reshape_tf = pd.melt(tf, id_vars=\"Id\", value_vars=qualitative).merge(key, on=[\"variable\",\"value\"])\n",
    "qualTf= reshape_tf.pivot(index='Id', columns='variable')[\"index\"]\n",
    "tf = qualTf.merge(tf[quantitative[1:]], on=[\"Id\"])\n",
    "\n",
    "tf = tf.fillna(0)"
   ]
  },
  {
   "cell_type": "code",
   "execution_count": 144,
   "metadata": {},
   "outputs": [
    {
     "data": {
      "text/html": [
       "<div>\n",
       "<style scoped>\n",
       "    .dataframe tbody tr th:only-of-type {\n",
       "        vertical-align: middle;\n",
       "    }\n",
       "\n",
       "    .dataframe tbody tr th {\n",
       "        vertical-align: top;\n",
       "    }\n",
       "\n",
       "    .dataframe thead th {\n",
       "        text-align: right;\n",
       "    }\n",
       "</style>\n",
       "<table border=\"1\" class=\"dataframe\">\n",
       "  <thead>\n",
       "    <tr style=\"text-align: right;\">\n",
       "      <th></th>\n",
       "      <th></th>\n",
       "      <th>index</th>\n",
       "    </tr>\n",
       "    <tr>\n",
       "      <th>variable</th>\n",
       "      <th>value</th>\n",
       "      <th></th>\n",
       "    </tr>\n",
       "  </thead>\n",
       "  <tbody>\n",
       "    <tr>\n",
       "      <th rowspan=\"4\" valign=\"top\">KitchenQual</th>\n",
       "      <th>Fa</th>\n",
       "      <td>0</td>\n",
       "    </tr>\n",
       "    <tr>\n",
       "      <th>TA</th>\n",
       "      <td>1</td>\n",
       "    </tr>\n",
       "    <tr>\n",
       "      <th>Gd</th>\n",
       "      <td>2</td>\n",
       "    </tr>\n",
       "    <tr>\n",
       "      <th>Ex</th>\n",
       "      <td>3</td>\n",
       "    </tr>\n",
       "  </tbody>\n",
       "</table>\n",
       "</div>"
      ],
      "text/plain": [
       "                  index\n",
       "variable    value      \n",
       "KitchenQual Fa        0\n",
       "            TA        1\n",
       "            Gd        2\n",
       "            Ex        3"
      ]
     },
     "execution_count": 144,
     "metadata": {},
     "output_type": "execute_result"
    }
   ],
   "source": [
    "key.loc[key.index.get_level_values(0)==\"KitchenQual\"]"
   ]
  },
  {
   "cell_type": "code",
   "execution_count": 145,
   "metadata": {},
   "outputs": [],
   "source": [
    "Xtest = tf[list(X.columns)]"
   ]
  },
  {
   "cell_type": "code",
   "execution_count": 146,
   "metadata": {},
   "outputs": [],
   "source": [
    "predictions = xgb_r.predict(Xtest)"
   ]
  },
  {
   "cell_type": "code",
   "execution_count": 147,
   "metadata": {},
   "outputs": [],
   "source": [
    "pd.DataFrame({'SalePrice':predictions},tf.Id).to_csv(\"../output/XGBoost_submission.csv\")"
   ]
  },
  {
   "cell_type": "code",
   "execution_count": null,
   "metadata": {},
   "outputs": [],
   "source": []
  }
 ],
 "metadata": {
  "kernelspec": {
   "display_name": "Python 3",
   "language": "python",
   "name": "python3"
  },
  "language_info": {
   "codemirror_mode": {
    "name": "ipython",
    "version": 3
   },
   "file_extension": ".py",
   "mimetype": "text/x-python",
   "name": "python",
   "nbconvert_exporter": "python",
   "pygments_lexer": "ipython3",
   "version": "3.8.4"
  }
 },
 "nbformat": 4,
 "nbformat_minor": 4
}
